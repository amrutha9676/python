{
 "cells": [
  {
   "cell_type": "markdown",
   "metadata": {},
   "source": [
    "# MARKDOWN BASISC:\n",
    "* **BOLD**\n",
    "* *ITALIC*\n",
    "* **BOLDITALIC***\n",
    "* *NORMAL TEXT\n",
    "     * *TEXT1\n",
    "     * *TEXT2\n",
    "    "
   ]
  },
  {
   "cell_type": "markdown",
   "metadata": {},
   "source": [
    "<img src='mini2.jpg'> "
   ]
  },
  {
   "cell_type": "code",
   "execution_count": 2,
   "metadata": {},
   "outputs": [
    {
     "name": "stdout",
     "output_type": "stream",
     "text": [
      "1 2 3\n"
     ]
    }
   ],
   "source": [
    "i,j,k=1,2,3\n",
    "print(i,j,k)"
   ]
  },
  {
   "cell_type": "code",
   "execution_count": 7,
   "metadata": {},
   "outputs": [],
   "source": [
    "j=k"
   ]
  },
  {
   "cell_type": "code",
   "execution_count": 8,
   "metadata": {},
   "outputs": [
    {
     "data": {
      "text/plain": [
       "3"
      ]
     },
     "execution_count": 8,
     "metadata": {},
     "output_type": "execute_result"
    }
   ],
   "source": [
    "j"
   ]
  },
  {
   "cell_type": "code",
   "execution_count": 9,
   "metadata": {},
   "outputs": [
    {
     "name": "stdout",
     "output_type": "stream",
     "text": [
      "hello world\n"
     ]
    }
   ],
   "source": [
    "a,b=\"hello\",\"world\"\n",
    "print(a,b)"
   ]
  },
  {
   "cell_type": "markdown",
   "metadata": {},
   "source": [
    "# Type casting"
   ]
  },
  {
   "cell_type": "code",
   "execution_count": 13,
   "metadata": {},
   "outputs": [
    {
     "name": "stdout",
     "output_type": "stream",
     "text": [
      "5.0\n",
      "5\n",
      "5\n"
     ]
    }
   ],
   "source": [
    "m=5\n",
    "print(float(m))\n",
    "n=str(m)\n",
    "o=int(n)\n",
    "print(n)\n",
    "print(o)"
   ]
  },
  {
   "cell_type": "markdown",
   "metadata": {},
   "source": [
    "# Arithmatic operations in python:\n",
    "* +\n",
    "* -\n",
    "* *\n",
    "* %\n",
    "* /\n",
    "* **a"
   ]
  },
  {
   "cell_type": "code",
   "execution_count": 14,
   "metadata": {},
   "outputs": [
    {
     "name": "stdout",
     "output_type": "stream",
     "text": [
      "addition of a and b 881\n"
     ]
    }
   ],
   "source": [
    "a=5\n",
    "b=876\n",
    "print(\"addition of a and b\",(a+b))"
   ]
  },
  {
   "cell_type": "code",
   "execution_count": 15,
   "metadata": {},
   "outputs": [
    {
     "name": "stdout",
     "output_type": "stream",
     "text": [
      "sub of a and b 229\n"
     ]
    }
   ],
   "source": [
    "a=5\n",
    "b=234\n",
    "c=b-a\n",
    "print(\"sub of a and b\",c)"
   ]
  },
  {
   "cell_type": "code",
   "execution_count": 16,
   "metadata": {},
   "outputs": [
    {
     "name": "stdout",
     "output_type": "stream",
     "text": [
      "mul of a and b 29625\n"
     ]
    }
   ],
   "source": [
    "a=3\n",
    "b=9875\n",
    "c=a*b\n",
    "print(\"mul of a and b\",c)"
   ]
  },
  {
   "cell_type": "code",
   "execution_count": 17,
   "metadata": {},
   "outputs": [
    {
     "name": "stdout",
     "output_type": "stream",
     "text": [
      "div 0.3333333333333333\n"
     ]
    }
   ],
   "source": [
    "a=3\n",
    "b=9\n",
    "c=a/b\n",
    "print(\"div\",c)"
   ]
  },
  {
   "cell_type": "code",
   "execution_count": 21,
   "metadata": {},
   "outputs": [
    {
     "name": "stdout",
     "output_type": "stream",
     "text": [
      "power 16\n"
     ]
    }
   ],
   "source": [
    "a=4\n",
    "b=2\n",
    "c=a**b\n",
    "print(\"power\",c)"
   ]
  },
  {
   "cell_type": "markdown",
   "metadata": {},
   "source": [
    "# Indendation"
   ]
  },
  {
   "cell_type": "code",
   "execution_count": 25,
   "metadata": {},
   "outputs": [
    {
     "name": "stdout",
     "output_type": "stream",
     "text": [
      "else executed\n"
     ]
    }
   ],
   "source": [
    "i=10\n",
    "if i<5:\n",
    "    print(\"if statement executed\")\n",
    "elif i!=10:\n",
    "    print(\"ele if executed\")\n",
    "else:\n",
    "    print(\"else executed\")"
   ]
  },
  {
   "cell_type": "code",
   "execution_count": 29,
   "metadata": {},
   "outputs": [
    {
     "name": "stdout",
     "output_type": "stream",
     "text": [
      "-1\n",
      "i is negtive number\n"
     ]
    }
   ],
   "source": [
    "i=int(input())\n",
    "if i>0:\n",
    "    print(\"i is postive number\")\n",
    "elif i==0:\n",
    "    print(\"i is zero\")\n",
    "else:\n",
    "    print(\"i is negtive number\")"
   ]
  },
  {
   "cell_type": "markdown",
   "metadata": {},
   "source": [
    "# string:\n",
    "- string indexing\n",
    "- string slicing"
   ]
  },
  {
   "cell_type": "code",
   "execution_count": 51,
   "metadata": {},
   "outputs": [
    {
     "name": "stdout",
     "output_type": "stream",
     "text": [
      "l\n",
      "world!\n",
      "!dlrow olleh\n",
      "hlowrd\n",
      "d!\n"
     ]
    }
   ],
   "source": [
    "s= \"hello world!\"\n",
    "s[3]\n",
    "print(s[3])\n",
    "s[0:6]\n",
    "s[-12]\n",
    "print(s[-6:])\n",
    "print(s[::-1])\n",
    "print(s[::2])\n",
    "print(s[-2:])"
   ]
  },
  {
   "cell_type": "markdown",
   "metadata": {},
   "source": []
  }
 ],
 "metadata": {
  "kernelspec": {
   "display_name": "Python 3",
   "language": "python",
   "name": "python3"
  },
  "language_info": {
   "codemirror_mode": {
    "name": "ipython",
    "version": 3
   },
   "file_extension": ".py",
   "mimetype": "text/x-python",
   "name": "python",
   "nbconvert_exporter": "python",
   "pygments_lexer": "ipython3",
   "version": "3.7.3"
  }
 },
 "nbformat": 4,
 "nbformat_minor": 2
}
